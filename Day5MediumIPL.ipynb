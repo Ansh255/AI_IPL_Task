{
 "cells": [
  {
   "cell_type": "code",
   "execution_count": 1,
   "id": "25c89ea1-0450-46ed-b015-d34eae280524",
   "metadata": {},
   "outputs": [],
   "source": [
    "import pandas as pd"
   ]
  },
  {
   "cell_type": "code",
   "execution_count": 2,
   "id": "5721d8b0-d3c3-4f08-a026-d70d98d5f20a",
   "metadata": {},
   "outputs": [
    {
     "data": {
      "text/html": [
       "<div>\n",
       "<style scoped>\n",
       "    .dataframe tbody tr th:only-of-type {\n",
       "        vertical-align: middle;\n",
       "    }\n",
       "\n",
       "    .dataframe tbody tr th {\n",
       "        vertical-align: top;\n",
       "    }\n",
       "\n",
       "    .dataframe thead th {\n",
       "        text-align: right;\n",
       "    }\n",
       "</style>\n",
       "<table border=\"1\" class=\"dataframe\">\n",
       "  <thead>\n",
       "    <tr style=\"text-align: right;\">\n",
       "      <th></th>\n",
       "      <th>Match_Number</th>\n",
       "      <th>Match</th>\n",
       "      <th>Date</th>\n",
       "      <th>Year</th>\n",
       "      <th>Venue</th>\n",
       "      <th>Team_Batting_First</th>\n",
       "      <th>Team_Batting_Second</th>\n",
       "      <th>Bat_First_Runs_Scored</th>\n",
       "      <th>Bat_First_Wickets_Lost</th>\n",
       "      <th>Bat_First_Overs_Consumed</th>\n",
       "      <th>...</th>\n",
       "      <th>Bat_Second_10_ov_score</th>\n",
       "      <th>Bat_Second_10_ov_wkts_lost</th>\n",
       "      <th>Bat_Second_10_ov_Req_RR</th>\n",
       "      <th>Bat_Second_15_ov_score</th>\n",
       "      <th>Bat_Second_15_ov_wkts_lost</th>\n",
       "      <th>Bat_Second_15_ov_Req_RR</th>\n",
       "      <th>Bat_Second_20_ov_score</th>\n",
       "      <th>Bat_Second_20_ov_wkts_lost</th>\n",
       "      <th>Match_Time</th>\n",
       "      <th>Duckworth Lewis Used</th>\n",
       "    </tr>\n",
       "  </thead>\n",
       "  <tbody>\n",
       "    <tr>\n",
       "      <th>0</th>\n",
       "      <td>1</td>\n",
       "      <td>League Match</td>\n",
       "      <td>Apr 18</td>\n",
       "      <td>2008</td>\n",
       "      <td>Bangalore</td>\n",
       "      <td>Kolkata</td>\n",
       "      <td>Bangalore</td>\n",
       "      <td>222</td>\n",
       "      <td>3</td>\n",
       "      <td>20.0</td>\n",
       "      <td>...</td>\n",
       "      <td>51.0</td>\n",
       "      <td>7.0</td>\n",
       "      <td>17.2</td>\n",
       "      <td>81.0</td>\n",
       "      <td>9.0</td>\n",
       "      <td>28.4</td>\n",
       "      <td>NaN</td>\n",
       "      <td>NaN</td>\n",
       "      <td>Evening</td>\n",
       "      <td>NaN</td>\n",
       "    </tr>\n",
       "    <tr>\n",
       "      <th>1</th>\n",
       "      <td>2</td>\n",
       "      <td>League Match</td>\n",
       "      <td>Apr 19</td>\n",
       "      <td>2008</td>\n",
       "      <td>Mohali</td>\n",
       "      <td>Chennai</td>\n",
       "      <td>Punjab</td>\n",
       "      <td>240</td>\n",
       "      <td>5</td>\n",
       "      <td>20.0</td>\n",
       "      <td>...</td>\n",
       "      <td>110.0</td>\n",
       "      <td>1.0</td>\n",
       "      <td>13.1</td>\n",
       "      <td>165.0</td>\n",
       "      <td>3.0</td>\n",
       "      <td>15.2</td>\n",
       "      <td>207.0</td>\n",
       "      <td>4.0</td>\n",
       "      <td>Afternoon</td>\n",
       "      <td>NaN</td>\n",
       "    </tr>\n",
       "    <tr>\n",
       "      <th>2</th>\n",
       "      <td>3</td>\n",
       "      <td>League Match</td>\n",
       "      <td>Apr 19</td>\n",
       "      <td>2008</td>\n",
       "      <td>Delhi</td>\n",
       "      <td>Rajasthan</td>\n",
       "      <td>Delhi</td>\n",
       "      <td>129</td>\n",
       "      <td>8</td>\n",
       "      <td>20.0</td>\n",
       "      <td>...</td>\n",
       "      <td>86.0</td>\n",
       "      <td>1.0</td>\n",
       "      <td>4.4</td>\n",
       "      <td>128.0</td>\n",
       "      <td>1.0</td>\n",
       "      <td>0.4</td>\n",
       "      <td>NaN</td>\n",
       "      <td>NaN</td>\n",
       "      <td>Evening</td>\n",
       "      <td>NaN</td>\n",
       "    </tr>\n",
       "    <tr>\n",
       "      <th>3</th>\n",
       "      <td>4</td>\n",
       "      <td>League Match</td>\n",
       "      <td>Apr 20</td>\n",
       "      <td>2008</td>\n",
       "      <td>Kolkata</td>\n",
       "      <td>Hyderabad</td>\n",
       "      <td>Kolkata</td>\n",
       "      <td>110</td>\n",
       "      <td>10</td>\n",
       "      <td>18.4</td>\n",
       "      <td>...</td>\n",
       "      <td>38.0</td>\n",
       "      <td>3.0</td>\n",
       "      <td>7.3</td>\n",
       "      <td>81.0</td>\n",
       "      <td>4.0</td>\n",
       "      <td>6.0</td>\n",
       "      <td>NaN</td>\n",
       "      <td>NaN</td>\n",
       "      <td>Afternoon</td>\n",
       "      <td>NaN</td>\n",
       "    </tr>\n",
       "    <tr>\n",
       "      <th>4</th>\n",
       "      <td>5</td>\n",
       "      <td>League Match</td>\n",
       "      <td>Apr 20</td>\n",
       "      <td>2008</td>\n",
       "      <td>Mumbai</td>\n",
       "      <td>Mumbai</td>\n",
       "      <td>Bangalore</td>\n",
       "      <td>165</td>\n",
       "      <td>6</td>\n",
       "      <td>20.0</td>\n",
       "      <td>...</td>\n",
       "      <td>76.0</td>\n",
       "      <td>3.0</td>\n",
       "      <td>9.0</td>\n",
       "      <td>118.0</td>\n",
       "      <td>4.0</td>\n",
       "      <td>9.6</td>\n",
       "      <td>166.0</td>\n",
       "      <td>5.0</td>\n",
       "      <td>Evening</td>\n",
       "      <td>NaN</td>\n",
       "    </tr>\n",
       "    <tr>\n",
       "      <th>...</th>\n",
       "      <td>...</td>\n",
       "      <td>...</td>\n",
       "      <td>...</td>\n",
       "      <td>...</td>\n",
       "      <td>...</td>\n",
       "      <td>...</td>\n",
       "      <td>...</td>\n",
       "      <td>...</td>\n",
       "      <td>...</td>\n",
       "      <td>...</td>\n",
       "      <td>...</td>\n",
       "      <td>...</td>\n",
       "      <td>...</td>\n",
       "      <td>...</td>\n",
       "      <td>...</td>\n",
       "      <td>...</td>\n",
       "      <td>...</td>\n",
       "      <td>...</td>\n",
       "      <td>...</td>\n",
       "      <td>...</td>\n",
       "      <td>...</td>\n",
       "    </tr>\n",
       "    <tr>\n",
       "      <th>509</th>\n",
       "      <td>510</td>\n",
       "      <td>League Match</td>\n",
       "      <td>May 17</td>\n",
       "      <td>2015</td>\n",
       "      <td>Hyderabad</td>\n",
       "      <td>Hyderabad</td>\n",
       "      <td>Mumbai</td>\n",
       "      <td>113</td>\n",
       "      <td>10</td>\n",
       "      <td>20.0</td>\n",
       "      <td>...</td>\n",
       "      <td>73.0</td>\n",
       "      <td>0.0</td>\n",
       "      <td>4.1</td>\n",
       "      <td>NaN</td>\n",
       "      <td>NaN</td>\n",
       "      <td>NaN</td>\n",
       "      <td>NaN</td>\n",
       "      <td>NaN</td>\n",
       "      <td>Evening</td>\n",
       "      <td>NaN</td>\n",
       "    </tr>\n",
       "    <tr>\n",
       "      <th>510</th>\n",
       "      <td>511</td>\n",
       "      <td>Qualifier 1</td>\n",
       "      <td>May 19</td>\n",
       "      <td>2015</td>\n",
       "      <td>Mumbai</td>\n",
       "      <td>Mumbai</td>\n",
       "      <td>Chennai</td>\n",
       "      <td>187</td>\n",
       "      <td>6</td>\n",
       "      <td>20.0</td>\n",
       "      <td>...</td>\n",
       "      <td>86.0</td>\n",
       "      <td>2.0</td>\n",
       "      <td>10.2</td>\n",
       "      <td>121.0</td>\n",
       "      <td>6.0</td>\n",
       "      <td>13.4</td>\n",
       "      <td>NaN</td>\n",
       "      <td>NaN</td>\n",
       "      <td>Evening</td>\n",
       "      <td>NaN</td>\n",
       "    </tr>\n",
       "    <tr>\n",
       "      <th>511</th>\n",
       "      <td>512</td>\n",
       "      <td>Eliminator</td>\n",
       "      <td>May 20</td>\n",
       "      <td>2015</td>\n",
       "      <td>Pune</td>\n",
       "      <td>Bangalore</td>\n",
       "      <td>Rajasthan</td>\n",
       "      <td>180</td>\n",
       "      <td>4</td>\n",
       "      <td>20.0</td>\n",
       "      <td>...</td>\n",
       "      <td>68.0</td>\n",
       "      <td>3.0</td>\n",
       "      <td>11.3</td>\n",
       "      <td>92.0</td>\n",
       "      <td>7.0</td>\n",
       "      <td>17.8</td>\n",
       "      <td>NaN</td>\n",
       "      <td>NaN</td>\n",
       "      <td>Evening</td>\n",
       "      <td>NaN</td>\n",
       "    </tr>\n",
       "    <tr>\n",
       "      <th>512</th>\n",
       "      <td>513</td>\n",
       "      <td>Qualifier 2</td>\n",
       "      <td>May 22</td>\n",
       "      <td>2015</td>\n",
       "      <td>Ranchi</td>\n",
       "      <td>Bangalore</td>\n",
       "      <td>Chennai</td>\n",
       "      <td>139</td>\n",
       "      <td>8</td>\n",
       "      <td>20.0</td>\n",
       "      <td>...</td>\n",
       "      <td>62.0</td>\n",
       "      <td>3.0</td>\n",
       "      <td>7.8</td>\n",
       "      <td>91.0</td>\n",
       "      <td>3.0</td>\n",
       "      <td>9.8</td>\n",
       "      <td>140.0</td>\n",
       "      <td>7.0</td>\n",
       "      <td>Evening</td>\n",
       "      <td>NaN</td>\n",
       "    </tr>\n",
       "    <tr>\n",
       "      <th>513</th>\n",
       "      <td>514</td>\n",
       "      <td>Final</td>\n",
       "      <td>May 24</td>\n",
       "      <td>2015</td>\n",
       "      <td>Kolkata</td>\n",
       "      <td>Mumbai</td>\n",
       "      <td>Chennai</td>\n",
       "      <td>202</td>\n",
       "      <td>5</td>\n",
       "      <td>20.0</td>\n",
       "      <td>...</td>\n",
       "      <td>67.0</td>\n",
       "      <td>1.0</td>\n",
       "      <td>13.6</td>\n",
       "      <td>112.0</td>\n",
       "      <td>4.0</td>\n",
       "      <td>18.2</td>\n",
       "      <td>161.0</td>\n",
       "      <td>8.0</td>\n",
       "      <td>Evening</td>\n",
       "      <td>NaN</td>\n",
       "    </tr>\n",
       "  </tbody>\n",
       "</table>\n",
       "<p>514 rows × 43 columns</p>\n",
       "</div>"
      ],
      "text/plain": [
       "     Match_Number         Match    Date  Year      Venue Team_Batting_First  \\\n",
       "0               1  League Match  Apr 18  2008  Bangalore            Kolkata   \n",
       "1               2  League Match  Apr 19  2008     Mohali            Chennai   \n",
       "2               3  League Match  Apr 19  2008      Delhi          Rajasthan   \n",
       "3               4  League Match  Apr 20  2008    Kolkata          Hyderabad   \n",
       "4               5  League Match  Apr 20  2008     Mumbai             Mumbai   \n",
       "..            ...           ...     ...   ...        ...                ...   \n",
       "509           510  League Match  May 17  2015  Hyderabad          Hyderabad   \n",
       "510           511   Qualifier 1  May 19  2015     Mumbai             Mumbai   \n",
       "511           512    Eliminator  May 20  2015       Pune          Bangalore   \n",
       "512           513   Qualifier 2  May 22  2015     Ranchi          Bangalore   \n",
       "513           514         Final  May 24  2015    Kolkata             Mumbai   \n",
       "\n",
       "    Team_Batting_Second  Bat_First_Runs_Scored  Bat_First_Wickets_Lost  \\\n",
       "0             Bangalore                    222                       3   \n",
       "1                Punjab                    240                       5   \n",
       "2                 Delhi                    129                       8   \n",
       "3               Kolkata                    110                      10   \n",
       "4             Bangalore                    165                       6   \n",
       "..                  ...                    ...                     ...   \n",
       "509              Mumbai                    113                      10   \n",
       "510             Chennai                    187                       6   \n",
       "511           Rajasthan                    180                       4   \n",
       "512             Chennai                    139                       8   \n",
       "513             Chennai                    202                       5   \n",
       "\n",
       "     Bat_First_Overs_Consumed  ...  Bat_Second_10_ov_score  \\\n",
       "0                        20.0  ...                    51.0   \n",
       "1                        20.0  ...                   110.0   \n",
       "2                        20.0  ...                    86.0   \n",
       "3                        18.4  ...                    38.0   \n",
       "4                        20.0  ...                    76.0   \n",
       "..                        ...  ...                     ...   \n",
       "509                      20.0  ...                    73.0   \n",
       "510                      20.0  ...                    86.0   \n",
       "511                      20.0  ...                    68.0   \n",
       "512                      20.0  ...                    62.0   \n",
       "513                      20.0  ...                    67.0   \n",
       "\n",
       "     Bat_Second_10_ov_wkts_lost  Bat_Second_10_ov_Req_RR  \\\n",
       "0                           7.0                     17.2   \n",
       "1                           1.0                     13.1   \n",
       "2                           1.0                      4.4   \n",
       "3                           3.0                      7.3   \n",
       "4                           3.0                      9.0   \n",
       "..                          ...                      ...   \n",
       "509                         0.0                      4.1   \n",
       "510                         2.0                     10.2   \n",
       "511                         3.0                     11.3   \n",
       "512                         3.0                      7.8   \n",
       "513                         1.0                     13.6   \n",
       "\n",
       "     Bat_Second_15_ov_score  Bat_Second_15_ov_wkts_lost  \\\n",
       "0                      81.0                         9.0   \n",
       "1                     165.0                         3.0   \n",
       "2                     128.0                         1.0   \n",
       "3                      81.0                         4.0   \n",
       "4                     118.0                         4.0   \n",
       "..                      ...                         ...   \n",
       "509                     NaN                         NaN   \n",
       "510                   121.0                         6.0   \n",
       "511                    92.0                         7.0   \n",
       "512                    91.0                         3.0   \n",
       "513                   112.0                         4.0   \n",
       "\n",
       "    Bat_Second_15_ov_Req_RR Bat_Second_20_ov_score  \\\n",
       "0                      28.4                    NaN   \n",
       "1                      15.2                  207.0   \n",
       "2                       0.4                    NaN   \n",
       "3                       6.0                    NaN   \n",
       "4                       9.6                  166.0   \n",
       "..                      ...                    ...   \n",
       "509                     NaN                    NaN   \n",
       "510                    13.4                    NaN   \n",
       "511                    17.8                    NaN   \n",
       "512                     9.8                  140.0   \n",
       "513                    18.2                  161.0   \n",
       "\n",
       "     Bat_Second_20_ov_wkts_lost Match_Time  Duckworth Lewis Used  \n",
       "0                           NaN    Evening                   NaN  \n",
       "1                           4.0  Afternoon                   NaN  \n",
       "2                           NaN    Evening                   NaN  \n",
       "3                           NaN  Afternoon                   NaN  \n",
       "4                           5.0    Evening                   NaN  \n",
       "..                          ...        ...                   ...  \n",
       "509                         NaN    Evening                   NaN  \n",
       "510                         NaN    Evening                   NaN  \n",
       "511                         NaN    Evening                   NaN  \n",
       "512                         7.0    Evening                   NaN  \n",
       "513                         8.0    Evening                   NaN  \n",
       "\n",
       "[514 rows x 43 columns]"
      ]
     },
     "execution_count": 2,
     "metadata": {},
     "output_type": "execute_result"
    }
   ],
   "source": [
    "data = pd.read_excel('IPL.xls')\n",
    "data"
   ]
  },
  {
   "cell_type": "code",
   "execution_count": 3,
   "id": "9d1fd0ed-a813-413d-b147-09386af653d3",
   "metadata": {},
   "outputs": [
    {
     "name": "stdout",
     "output_type": "stream",
     "text": [
      "<class 'pandas.core.frame.DataFrame'>\n",
      "RangeIndex: 514 entries, 0 to 513\n",
      "Data columns (total 43 columns):\n",
      " #   Column                      Non-Null Count  Dtype  \n",
      "---  ------                      --------------  -----  \n",
      " 0   Match_Number                514 non-null    int64  \n",
      " 1   Match                       514 non-null    object \n",
      " 2   Date                        514 non-null    object \n",
      " 3   Year                        514 non-null    int64  \n",
      " 4   Venue                       514 non-null    object \n",
      " 5   Team_Batting_First          514 non-null    object \n",
      " 6   Team_Batting_Second         514 non-null    object \n",
      " 7   Bat_First_Runs_Scored       514 non-null    int64  \n",
      " 8   Bat_First_Wickets_Lost      514 non-null    int64  \n",
      " 9   Bat_First_Overs_Consumed    514 non-null    float64\n",
      " 10  Bat_First_Overs_Allocated   514 non-null    int64  \n",
      " 11  Bat_Second_Runs_Scored      514 non-null    int64  \n",
      " 12  Bat_Second_Wickets_Lost     514 non-null    int64  \n",
      " 13  Bat_Second_Overs_Consumed   514 non-null    float64\n",
      " 14  Bat_Second_Overs_Allocated  514 non-null    float64\n",
      " 15  Winner                      514 non-null    object \n",
      " 16  Winning_Team                514 non-null    object \n",
      " 17  Winning_Margin              508 non-null    float64\n",
      " 18  Win_Type                    508 non-null    object \n",
      " 19  Bat_First_Run_Rate          514 non-null    float64\n",
      " 20  Bat_Second_Run_Rate         514 non-null    float64\n",
      " 21  Balls_Remaining             514 non-null    float64\n",
      " 22  Bat_First_5_ov_score        514 non-null    int64  \n",
      " 23  Bat_First_5_ov_wkts_lost    514 non-null    int64  \n",
      " 24  Bat_First_10_ov_score       513 non-null    float64\n",
      " 25  Bat_First_10_ov_wkts_lost   513 non-null    float64\n",
      " 26  Bat_First_15_ov_score       506 non-null    float64\n",
      " 27  Bat_First_15_ov_wkts_lost   506 non-null    float64\n",
      " 28  Bat_First_20_ov_score       501 non-null    float64\n",
      " 29  Bat_First_20_ov_wkts_lost   501 non-null    float64\n",
      " 30  Bat_Second_5_ov_score       514 non-null    int64  \n",
      " 31  Bat_Second_5_ov_wkts_lost   514 non-null    int64  \n",
      " 32  Bat_Second_5_ov_Req_RR      512 non-null    float64\n",
      " 33  Bat_Second_10_ov_score      506 non-null    float64\n",
      " 34  Bat_Second_10_ov_wkts_lost  506 non-null    float64\n",
      " 35  Bat_Second_10_ov_Req_RR     503 non-null    float64\n",
      " 36  Bat_Second_15_ov_score      478 non-null    float64\n",
      " 37  Bat_Second_15_ov_wkts_lost  478 non-null    float64\n",
      " 38  Bat_Second_15_ov_Req_RR     468 non-null    float64\n",
      " 39  Bat_Second_20_ov_score      305 non-null    float64\n",
      " 40  Bat_Second_20_ov_wkts_lost  305 non-null    float64\n",
      " 41  Match_Time                  514 non-null    object \n",
      " 42  Duckworth Lewis Used        7 non-null      object \n",
      "dtypes: float64(22), int64(11), object(10)\n",
      "memory usage: 172.8+ KB\n"
     ]
    }
   ],
   "source": [
    "data.info()"
   ]
  },
  {
   "cell_type": "code",
   "execution_count": 4,
   "id": "2b1a46ad-bab6-4244-9567-e714436b303b",
   "metadata": {},
   "outputs": [],
   "source": [
    "#(i) match is tied"
   ]
  },
  {
   "cell_type": "code",
   "execution_count": 5,
   "id": "4b4899b7-22c9-4da3-869f-e2e031b9daa6",
   "metadata": {},
   "outputs": [
    {
     "data": {
      "text/plain": [
       "0      False\n",
       "1      False\n",
       "2      False\n",
       "3      False\n",
       "4      False\n",
       "       ...  \n",
       "509    False\n",
       "510    False\n",
       "511    False\n",
       "512    False\n",
       "513    False\n",
       "Name: Winning_Team, Length: 514, dtype: bool"
      ]
     },
     "execution_count": 5,
     "metadata": {},
     "output_type": "execute_result"
    }
   ],
   "source": [
    "condition1 = data['Winning_Team']=='Match Tied'\n",
    "condition1"
   ]
  },
  {
   "cell_type": "code",
   "execution_count": 6,
   "id": "cf2c0e1a-c4a9-4e3c-9184-1bd37aaa0907",
   "metadata": {},
   "outputs": [],
   "source": [
    "# (ii) ball remaining at the end of the match"
   ]
  },
  {
   "cell_type": "code",
   "execution_count": 7,
   "id": "5525e00b-5f3b-44e9-8b12-31946cd37b1e",
   "metadata": {},
   "outputs": [
    {
     "data": {
      "text/plain": [
       "0      False\n",
       "1       True\n",
       "2      False\n",
       "3      False\n",
       "4       True\n",
       "       ...  \n",
       "509    False\n",
       "510    False\n",
       "511    False\n",
       "512     True\n",
       "513     True\n",
       "Name: Balls_Remaining, Length: 514, dtype: bool"
      ]
     },
     "execution_count": 7,
     "metadata": {},
     "output_type": "execute_result"
    }
   ],
   "source": [
    "condition2 = data['Balls_Remaining']<=3\n",
    "condition2"
   ]
  },
  {
   "cell_type": "code",
   "execution_count": 8,
   "id": "de8758ae-3542-47e6-9aa6-4a940fe90788",
   "metadata": {},
   "outputs": [],
   "source": [
    "# (iii) chasing team won"
   ]
  },
  {
   "cell_type": "code",
   "execution_count": 9,
   "id": "95e7d14d-4441-433d-99b1-f7ac7f21c455",
   "metadata": {},
   "outputs": [
    {
     "data": {
      "text/plain": [
       "0      False\n",
       "1      False\n",
       "2      False\n",
       "3      False\n",
       "4      False\n",
       "       ...  \n",
       "509    False\n",
       "510    False\n",
       "511    False\n",
       "512    False\n",
       "513    False\n",
       "Length: 514, dtype: bool"
      ]
     },
     "execution_count": 9,
     "metadata": {},
     "output_type": "execute_result"
    }
   ],
   "source": [
    "condition3 = (data['Winning_Team'] =='Chasing') & (data['Winning_Margin'] <=1 ) & (data['Win_Type'] == 'wicket')\n",
    "condition3"
   ]
  },
  {
   "cell_type": "code",
   "execution_count": 10,
   "id": "728ad9b9-1510-4698-a4d9-562ed547237a",
   "metadata": {},
   "outputs": [],
   "source": [
    "# (iv) chasing team loss "
   ]
  },
  {
   "cell_type": "code",
   "execution_count": 12,
   "id": "6903f8af-e9bc-416e-9553-ae2c2e5c9baa",
   "metadata": {},
   "outputs": [
    {
     "data": {
      "text/plain": [
       "0      False\n",
       "1      False\n",
       "2      False\n",
       "3      False\n",
       "4      False\n",
       "       ...  \n",
       "509    False\n",
       "510    False\n",
       "511    False\n",
       "512    False\n",
       "513    False\n",
       "Length: 514, dtype: bool"
      ]
     },
     "execution_count": 12,
     "metadata": {},
     "output_type": "execute_result"
    }
   ],
   "source": [
    "condition4 = (data['Winning_Team'] == 'FirstBatting') & (data['Winning_Margin'] <=5) & (data['Win_Type'] == 'run')\n",
    "condition4"
   ]
  },
  {
   "cell_type": "code",
   "execution_count": null,
   "id": "610768ff-4e59-4503-889f-5f5d7c33ec97",
   "metadata": {},
   "outputs": [],
   "source": [
    "close_matches_condition = data[condition1 | condition2 | condition3 | condition4]"
   ]
  },
  {
   "cell_type": "code",
   "execution_count": 1,
   "id": "3eff0770-2d2e-436e-b059-334cbc5b3187",
   "metadata": {},
   "outputs": [
    {
     "ename": "NameError",
     "evalue": "name 'close_matches_condition' is not defined",
     "output_type": "error",
     "traceback": [
      "\u001b[1;31m---------------------------------------------------------------------------\u001b[0m",
      "\u001b[1;31mNameError\u001b[0m                                 Traceback (most recent call last)",
      "Cell \u001b[1;32mIn[1], line 1\u001b[0m\n\u001b[1;32m----> 1\u001b[0m close_matches_per_year \u001b[38;5;241m=\u001b[39m close_matches_condition\u001b[38;5;241m.\u001b[39mgroupby(\u001b[38;5;124m'\u001b[39m\u001b[38;5;124mYear\u001b[39m\u001b[38;5;124m'\u001b[39m)\u001b[38;5;241m.\u001b[39msize()\u001b[38;5;241m.\u001b[39mreset_index(name\u001b[38;5;241m=\u001b[39m\u001b[38;5;124m'\u001b[39m\u001b[38;5;124mClose_Matches\u001b[39m\u001b[38;5;124m'\u001b[39m,drop\u001b[38;5;241m=\u001b[39m\u001b[38;5;28;01mTrue\u001b[39;00m)\n\u001b[0;32m      2\u001b[0m close_matches_per_year\n",
      "\u001b[1;31mNameError\u001b[0m: name 'close_matches_condition' is not defined"
     ]
    }
   ],
   "source": [
    "close_matches_per_year = close_matches_condition.groupby('Year').size().reset_index(name='Close_Matches')\n",
    "close_matches_per_year"
   ]
  },
  {
   "cell_type": "code",
   "execution_count": null,
   "id": "b574520f-7a44-487c-b620-98bdad305de3",
   "metadata": {},
   "outputs": [],
   "source": [
    "# Task 2"
   ]
  },
  {
   "cell_type": "code",
   "execution_count": null,
   "id": "07692f3f-a084-4c4e-9222-5ab106a32f9d",
   "metadata": {
    "scrolled": true
   },
   "outputs": [],
   "source": [
    "CSK_A = (data['Winner']=='Chennai').sum()\n",
    "CSK_A "
   ]
  },
  {
   "cell_type": "code",
   "execution_count": null,
   "id": "ea6d4d88-37b6-488b-981f-01b61391b868",
   "metadata": {},
   "outputs": [],
   "source": [
    "CSK_B = (data['Winner']=='Chennai') & (data['Winning_Team']=='FirstBatting')\n",
    "CSK_B.sum()"
   ]
  },
  {
   "cell_type": "code",
   "execution_count": null,
   "id": "ebd24878-c4a4-4a4c-9453-eb777cc4e9e7",
   "metadata": {},
   "outputs": [],
   "source": [
    "Chennai= (CSK_B/CSK_A*100).sum()\n",
    "Chennai"
   ]
  },
  {
   "cell_type": "code",
   "execution_count": null,
   "id": "91f8d1a8-c5b9-494b-864d-9d0a3a8bd347",
   "metadata": {
    "scrolled": true
   },
   "outputs": [],
   "source": [
    "SRH_A = (data['Winner']=='Hyderabad').sum()\n",
    "SRH_A"
   ]
  },
  {
   "cell_type": "code",
   "execution_count": null,
   "id": "087343f4-7c16-4dab-ab55-cbb84817d3ea",
   "metadata": {},
   "outputs": [],
   "source": [
    "SRH_B = (data['Winner']=='Hyderabad') & (data['Winning_Team']=='FirstBatting')\n",
    "SRH_B.sum()"
   ]
  },
  {
   "cell_type": "code",
   "execution_count": null,
   "id": "e28cd56d-7ae9-4902-8564-eafb6f4c61b8",
   "metadata": {},
   "outputs": [],
   "source": [
    "Hydrabad= (SRH_B/SRH_A*100).sum()\n",
    "Hydrabad"
   ]
  },
  {
   "cell_type": "code",
   "execution_count": null,
   "id": "c01c98bc-87a2-4c67-9daf-82e81e736db3",
   "metadata": {},
   "outputs": [],
   "source": [
    "MI_A = (data['Winner']=='Mumbai').sum()\n",
    "MI_A"
   ]
  },
  {
   "cell_type": "code",
   "execution_count": null,
   "id": "d2a23eae-8204-410b-934f-538cb6770c17",
   "metadata": {},
   "outputs": [],
   "source": [
    "MI_B = (data['Winner']=='Mumbai') & (data['Winning_Team']=='FirstBatting')\n",
    "MI_B.sum()"
   ]
  },
  {
   "cell_type": "code",
   "execution_count": null,
   "id": "7b1d027f-f47e-4918-930b-45aab924c867",
   "metadata": {},
   "outputs": [],
   "source": [
    "Mumbai= (MI_B/MI_A*100).sum()\n",
    "Mumbai"
   ]
  },
  {
   "cell_type": "code",
   "execution_count": null,
   "id": "429ca9ef-016d-4a43-ad1b-e79cfc89d74e",
   "metadata": {},
   "outputs": [],
   "source": [
    "KKR_A = (data['Winner']=='Kolkata').sum()\n",
    "KKR_A"
   ]
  },
  {
   "cell_type": "code",
   "execution_count": null,
   "id": "4209a499-428a-4d0f-855f-2e66a7633b66",
   "metadata": {},
   "outputs": [],
   "source": [
    "KKR_B = (data['Winner']=='Kolkata') & (data['Winning_Team']=='FirstBatting')\n",
    "KKR_B.sum()"
   ]
  },
  {
   "cell_type": "code",
   "execution_count": null,
   "id": "d359261a-6859-47cc-be35-6b1d2424d051",
   "metadata": {},
   "outputs": [],
   "source": [
    "Kolkata= (KKR_B/KKR_A*100).sum()\n",
    "Kolkata"
   ]
  },
  {
   "cell_type": "code",
   "execution_count": null,
   "id": "6bcab4c3-e0f8-459e-9caa-c85bbd156bda",
   "metadata": {},
   "outputs": [],
   "source": []
  }
 ],
 "metadata": {
  "kernelspec": {
   "display_name": "Python 3 (ipykernel)",
   "language": "python",
   "name": "python3"
  },
  "language_info": {
   "codemirror_mode": {
    "name": "ipython",
    "version": 3
   },
   "file_extension": ".py",
   "mimetype": "text/x-python",
   "name": "python",
   "nbconvert_exporter": "python",
   "pygments_lexer": "ipython3",
   "version": "3.11.7"
  }
 },
 "nbformat": 4,
 "nbformat_minor": 5
}
