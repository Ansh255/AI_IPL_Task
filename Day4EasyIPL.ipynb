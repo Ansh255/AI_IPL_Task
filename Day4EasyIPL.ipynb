{
 "cells": [
  {
   "cell_type": "markdown",
   "id": "cd746c87-db69-4b41-a6a2-a08bfbb4e091",
   "metadata": {
    "jp-MarkdownHeadingCollapsed": true
   },
   "source": [
    "import pandas as pd"
   ]
  },
  {
   "cell_type": "code",
   "execution_count": 10,
   "id": "a45fdd45-3c62-4550-b988-f71b40229880",
   "metadata": {
    "scrolled": true
   },
   "outputs": [
    {
     "data": {
      "text/html": [
       "<div>\n",
       "<style scoped>\n",
       "    .dataframe tbody tr th:only-of-type {\n",
       "        vertical-align: middle;\n",
       "    }\n",
       "\n",
       "    .dataframe tbody tr th {\n",
       "        vertical-align: top;\n",
       "    }\n",
       "\n",
       "    .dataframe thead th {\n",
       "        text-align: right;\n",
       "    }\n",
       "</style>\n",
       "<table border=\"1\" class=\"dataframe\">\n",
       "  <thead>\n",
       "    <tr style=\"text-align: right;\">\n",
       "      <th></th>\n",
       "      <th>Total Number of matches</th>\n",
       "      <th>Number of matches Team Batting First Won(Column Q)</th>\n",
       "      <th>Number of matches team Chasing Won(Column Q)</th>\n",
       "      <th>Number of times Match Tied(Column Q)</th>\n",
       "    </tr>\n",
       "  </thead>\n",
       "  <tbody>\n",
       "    <tr>\n",
       "      <th>2008</th>\n",
       "      <td>?</td>\n",
       "      <td>?</td>\n",
       "      <td>?</td>\n",
       "      <td>?</td>\n",
       "    </tr>\n",
       "    <tr>\n",
       "      <th>2009</th>\n",
       "      <td>?</td>\n",
       "      <td>?</td>\n",
       "      <td>?</td>\n",
       "      <td>?</td>\n",
       "    </tr>\n",
       "    <tr>\n",
       "      <th>2010</th>\n",
       "      <td>?</td>\n",
       "      <td>?</td>\n",
       "      <td>?</td>\n",
       "      <td>?</td>\n",
       "    </tr>\n",
       "    <tr>\n",
       "      <th>2011</th>\n",
       "      <td>?</td>\n",
       "      <td>?</td>\n",
       "      <td>?</td>\n",
       "      <td>?</td>\n",
       "    </tr>\n",
       "    <tr>\n",
       "      <th>2012</th>\n",
       "      <td>?</td>\n",
       "      <td>?</td>\n",
       "      <td>?</td>\n",
       "      <td>?</td>\n",
       "    </tr>\n",
       "    <tr>\n",
       "      <th>2013</th>\n",
       "      <td>?</td>\n",
       "      <td>?</td>\n",
       "      <td>?</td>\n",
       "      <td>?</td>\n",
       "    </tr>\n",
       "    <tr>\n",
       "      <th>2014</th>\n",
       "      <td>?</td>\n",
       "      <td>?</td>\n",
       "      <td>?</td>\n",
       "      <td>?</td>\n",
       "    </tr>\n",
       "    <tr>\n",
       "      <th>2015</th>\n",
       "      <td>?</td>\n",
       "      <td>?</td>\n",
       "      <td>?</td>\n",
       "      <td>?</td>\n",
       "    </tr>\n",
       "  </tbody>\n",
       "</table>\n",
       "</div>"
      ],
      "text/plain": [
       "     Total Number of matches  \\\n",
       "2008                       ?   \n",
       "2009                       ?   \n",
       "2010                       ?   \n",
       "2011                       ?   \n",
       "2012                       ?   \n",
       "2013                       ?   \n",
       "2014                       ?   \n",
       "2015                       ?   \n",
       "\n",
       "     Number of matches Team Batting First Won(Column Q)  \\\n",
       "2008                                                  ?   \n",
       "2009                                                  ?   \n",
       "2010                                                  ?   \n",
       "2011                                                  ?   \n",
       "2012                                                  ?   \n",
       "2013                                                  ?   \n",
       "2014                                                  ?   \n",
       "2015                                                  ?   \n",
       "\n",
       "     Number of matches team Chasing Won(Column Q)  \\\n",
       "2008                                            ?   \n",
       "2009                                            ?   \n",
       "2010                                            ?   \n",
       "2011                                            ?   \n",
       "2012                                            ?   \n",
       "2013                                            ?   \n",
       "2014                                            ?   \n",
       "2015                                            ?   \n",
       "\n",
       "     Number of times Match Tied(Column Q)  \n",
       "2008                                    ?  \n",
       "2009                                    ?  \n",
       "2010                                    ?  \n",
       "2011                                    ?  \n",
       "2012                                    ?  \n",
       "2013                                    ?  \n",
       "2014                                    ?  \n",
       "2015                                    ?  "
      ]
     },
     "execution_count": 10,
     "metadata": {},
     "output_type": "execute_result"
    }
   ],
   "source": [
    "import pandas as pd\n",
    "index = [2008, 2009, 2010, 2011, 2012, 2013, 2014, 2015]\n",
    "df = pd.DataFrame({\n",
    "    'Total Number of matches': ['?'] * len(index),\n",
    "    'Number of matches Team Batting First Won(Column Q)': ['?'] * len(index),\n",
    "    'Number of matches team Chasing Won(Column Q)': ['?'] * len(index),\n",
    "    'Number of times Match Tied(Column Q)': ['?'] * len(index)\n",
    "}, index=index)\n",
    "df"
   ]
  },
  {
   "cell_type": "code",
   "execution_count": 11,
   "id": "0698a2f8-4241-4d63-bfe6-a4fd8b9266b5",
   "metadata": {
    "scrolled": true
   },
   "outputs": [
    {
     "ename": "FileNotFoundError",
     "evalue": "[Errno 2] No such file or directory: 'IPL.xls'",
     "output_type": "error",
     "traceback": [
      "\u001b[1;31m---------------------------------------------------------------------------\u001b[0m",
      "\u001b[1;31mFileNotFoundError\u001b[0m                         Traceback (most recent call last)",
      "Cell \u001b[1;32mIn[11], line 1\u001b[0m\n\u001b[1;32m----> 1\u001b[0m data \u001b[38;5;241m=\u001b[39m pd\u001b[38;5;241m.\u001b[39mread_excel(\u001b[38;5;124m'\u001b[39m\u001b[38;5;124mIPL.xls\u001b[39m\u001b[38;5;124m'\u001b[39m)\n\u001b[0;32m      2\u001b[0m data\u001b[38;5;241m.\u001b[39mhead()\n",
      "File \u001b[1;32m~\\anaconda3\\Lib\\site-packages\\pandas\\io\\excel\\_base.py:504\u001b[0m, in \u001b[0;36mread_excel\u001b[1;34m(io, sheet_name, header, names, index_col, usecols, dtype, engine, converters, true_values, false_values, skiprows, nrows, na_values, keep_default_na, na_filter, verbose, parse_dates, date_parser, date_format, thousands, decimal, comment, skipfooter, storage_options, dtype_backend, engine_kwargs)\u001b[0m\n\u001b[0;32m    502\u001b[0m \u001b[38;5;28;01mif\u001b[39;00m \u001b[38;5;129;01mnot\u001b[39;00m \u001b[38;5;28misinstance\u001b[39m(io, ExcelFile):\n\u001b[0;32m    503\u001b[0m     should_close \u001b[38;5;241m=\u001b[39m \u001b[38;5;28;01mTrue\u001b[39;00m\n\u001b[1;32m--> 504\u001b[0m     io \u001b[38;5;241m=\u001b[39m ExcelFile(\n\u001b[0;32m    505\u001b[0m         io,\n\u001b[0;32m    506\u001b[0m         storage_options\u001b[38;5;241m=\u001b[39mstorage_options,\n\u001b[0;32m    507\u001b[0m         engine\u001b[38;5;241m=\u001b[39mengine,\n\u001b[0;32m    508\u001b[0m         engine_kwargs\u001b[38;5;241m=\u001b[39mengine_kwargs,\n\u001b[0;32m    509\u001b[0m     )\n\u001b[0;32m    510\u001b[0m \u001b[38;5;28;01melif\u001b[39;00m engine \u001b[38;5;129;01mand\u001b[39;00m engine \u001b[38;5;241m!=\u001b[39m io\u001b[38;5;241m.\u001b[39mengine:\n\u001b[0;32m    511\u001b[0m     \u001b[38;5;28;01mraise\u001b[39;00m \u001b[38;5;167;01mValueError\u001b[39;00m(\n\u001b[0;32m    512\u001b[0m         \u001b[38;5;124m\"\u001b[39m\u001b[38;5;124mEngine should not be specified when passing \u001b[39m\u001b[38;5;124m\"\u001b[39m\n\u001b[0;32m    513\u001b[0m         \u001b[38;5;124m\"\u001b[39m\u001b[38;5;124man ExcelFile - ExcelFile already has the engine set\u001b[39m\u001b[38;5;124m\"\u001b[39m\n\u001b[0;32m    514\u001b[0m     )\n",
      "File \u001b[1;32m~\\anaconda3\\Lib\\site-packages\\pandas\\io\\excel\\_base.py:1563\u001b[0m, in \u001b[0;36mExcelFile.__init__\u001b[1;34m(self, path_or_buffer, engine, storage_options, engine_kwargs)\u001b[0m\n\u001b[0;32m   1561\u001b[0m     ext \u001b[38;5;241m=\u001b[39m \u001b[38;5;124m\"\u001b[39m\u001b[38;5;124mxls\u001b[39m\u001b[38;5;124m\"\u001b[39m\n\u001b[0;32m   1562\u001b[0m \u001b[38;5;28;01melse\u001b[39;00m:\n\u001b[1;32m-> 1563\u001b[0m     ext \u001b[38;5;241m=\u001b[39m inspect_excel_format(\n\u001b[0;32m   1564\u001b[0m         content_or_path\u001b[38;5;241m=\u001b[39mpath_or_buffer, storage_options\u001b[38;5;241m=\u001b[39mstorage_options\n\u001b[0;32m   1565\u001b[0m     )\n\u001b[0;32m   1566\u001b[0m     \u001b[38;5;28;01mif\u001b[39;00m ext \u001b[38;5;129;01mis\u001b[39;00m \u001b[38;5;28;01mNone\u001b[39;00m:\n\u001b[0;32m   1567\u001b[0m         \u001b[38;5;28;01mraise\u001b[39;00m \u001b[38;5;167;01mValueError\u001b[39;00m(\n\u001b[0;32m   1568\u001b[0m             \u001b[38;5;124m\"\u001b[39m\u001b[38;5;124mExcel file format cannot be determined, you must specify \u001b[39m\u001b[38;5;124m\"\u001b[39m\n\u001b[0;32m   1569\u001b[0m             \u001b[38;5;124m\"\u001b[39m\u001b[38;5;124man engine manually.\u001b[39m\u001b[38;5;124m\"\u001b[39m\n\u001b[0;32m   1570\u001b[0m         )\n",
      "File \u001b[1;32m~\\anaconda3\\Lib\\site-packages\\pandas\\io\\excel\\_base.py:1419\u001b[0m, in \u001b[0;36minspect_excel_format\u001b[1;34m(content_or_path, storage_options)\u001b[0m\n\u001b[0;32m   1416\u001b[0m \u001b[38;5;28;01mif\u001b[39;00m \u001b[38;5;28misinstance\u001b[39m(content_or_path, \u001b[38;5;28mbytes\u001b[39m):\n\u001b[0;32m   1417\u001b[0m     content_or_path \u001b[38;5;241m=\u001b[39m BytesIO(content_or_path)\n\u001b[1;32m-> 1419\u001b[0m \u001b[38;5;28;01mwith\u001b[39;00m get_handle(\n\u001b[0;32m   1420\u001b[0m     content_or_path, \u001b[38;5;124m\"\u001b[39m\u001b[38;5;124mrb\u001b[39m\u001b[38;5;124m\"\u001b[39m, storage_options\u001b[38;5;241m=\u001b[39mstorage_options, is_text\u001b[38;5;241m=\u001b[39m\u001b[38;5;28;01mFalse\u001b[39;00m\n\u001b[0;32m   1421\u001b[0m ) \u001b[38;5;28;01mas\u001b[39;00m handle:\n\u001b[0;32m   1422\u001b[0m     stream \u001b[38;5;241m=\u001b[39m handle\u001b[38;5;241m.\u001b[39mhandle\n\u001b[0;32m   1423\u001b[0m     stream\u001b[38;5;241m.\u001b[39mseek(\u001b[38;5;241m0\u001b[39m)\n",
      "File \u001b[1;32m~\\anaconda3\\Lib\\site-packages\\pandas\\io\\common.py:872\u001b[0m, in \u001b[0;36mget_handle\u001b[1;34m(path_or_buf, mode, encoding, compression, memory_map, is_text, errors, storage_options)\u001b[0m\n\u001b[0;32m    863\u001b[0m         handle \u001b[38;5;241m=\u001b[39m \u001b[38;5;28mopen\u001b[39m(\n\u001b[0;32m    864\u001b[0m             handle,\n\u001b[0;32m    865\u001b[0m             ioargs\u001b[38;5;241m.\u001b[39mmode,\n\u001b[1;32m   (...)\u001b[0m\n\u001b[0;32m    868\u001b[0m             newline\u001b[38;5;241m=\u001b[39m\u001b[38;5;124m\"\u001b[39m\u001b[38;5;124m\"\u001b[39m,\n\u001b[0;32m    869\u001b[0m         )\n\u001b[0;32m    870\u001b[0m     \u001b[38;5;28;01melse\u001b[39;00m:\n\u001b[0;32m    871\u001b[0m         \u001b[38;5;66;03m# Binary mode\u001b[39;00m\n\u001b[1;32m--> 872\u001b[0m         handle \u001b[38;5;241m=\u001b[39m \u001b[38;5;28mopen\u001b[39m(handle, ioargs\u001b[38;5;241m.\u001b[39mmode)\n\u001b[0;32m    873\u001b[0m     handles\u001b[38;5;241m.\u001b[39mappend(handle)\n\u001b[0;32m    875\u001b[0m \u001b[38;5;66;03m# Convert BytesIO or file objects passed with an encoding\u001b[39;00m\n",
      "\u001b[1;31mFileNotFoundError\u001b[0m: [Errno 2] No such file or directory: 'IPL.xls'"
     ]
    }
   ],
   "source": [
    "data = pd.read_excel('IPL.xls')\n",
    "data.head()"
   ]
  },
  {
   "cell_type": "code",
   "execution_count": 32,
   "id": "ffb8ce8c-89e6-4a1a-a9a5-104543136516",
   "metadata": {
    "scrolled": true
   },
   "outputs": [
    {
     "data": {
      "text/html": [
       "<div>\n",
       "<style scoped>\n",
       "    .dataframe tbody tr th:only-of-type {\n",
       "        vertical-align: middle;\n",
       "    }\n",
       "\n",
       "    .dataframe tbody tr th {\n",
       "        vertical-align: top;\n",
       "    }\n",
       "\n",
       "    .dataframe thead th {\n",
       "        text-align: right;\n",
       "    }\n",
       "</style>\n",
       "<table border=\"1\" class=\"dataframe\">\n",
       "  <thead>\n",
       "    <tr style=\"text-align: right;\">\n",
       "      <th></th>\n",
       "      <th>Total Number of matches</th>\n",
       "      <th>Number of matches Team Batting First Won(Column Q)</th>\n",
       "      <th>Number of matches team Chasing Won(Column Q)</th>\n",
       "      <th>Number of times Match Tied(Column Q)</th>\n",
       "    </tr>\n",
       "  </thead>\n",
       "  <tbody>\n",
       "    <tr>\n",
       "      <th>2008</th>\n",
       "      <td>58</td>\n",
       "      <td>22</td>\n",
       "      <td>36</td>\n",
       "      <td>0</td>\n",
       "    </tr>\n",
       "    <tr>\n",
       "      <th>2009</th>\n",
       "      <td>57</td>\n",
       "      <td>26</td>\n",
       "      <td>30</td>\n",
       "      <td>0</td>\n",
       "    </tr>\n",
       "    <tr>\n",
       "      <th>2010</th>\n",
       "      <td>60</td>\n",
       "      <td>31</td>\n",
       "      <td>28</td>\n",
       "      <td>0</td>\n",
       "    </tr>\n",
       "    <tr>\n",
       "      <th>2011</th>\n",
       "      <td>72</td>\n",
       "      <td>32</td>\n",
       "      <td>40</td>\n",
       "      <td>0</td>\n",
       "    </tr>\n",
       "    <tr>\n",
       "      <th>2012</th>\n",
       "      <td>74</td>\n",
       "      <td>34</td>\n",
       "      <td>40</td>\n",
       "      <td>0</td>\n",
       "    </tr>\n",
       "    <tr>\n",
       "      <th>2013</th>\n",
       "      <td>76</td>\n",
       "      <td>37</td>\n",
       "      <td>37</td>\n",
       "      <td>0</td>\n",
       "    </tr>\n",
       "    <tr>\n",
       "      <th>2014</th>\n",
       "      <td>60</td>\n",
       "      <td>22</td>\n",
       "      <td>37</td>\n",
       "      <td>0</td>\n",
       "    </tr>\n",
       "    <tr>\n",
       "      <th>2015</th>\n",
       "      <td>57</td>\n",
       "      <td>32</td>\n",
       "      <td>24</td>\n",
       "      <td>0</td>\n",
       "    </tr>\n",
       "  </tbody>\n",
       "</table>\n",
       "</div>"
      ],
      "text/plain": [
       "     Total Number of matches  \\\n",
       "2008                      58   \n",
       "2009                      57   \n",
       "2010                      60   \n",
       "2011                      72   \n",
       "2012                      74   \n",
       "2013                      76   \n",
       "2014                      60   \n",
       "2015                      57   \n",
       "\n",
       "     Number of matches Team Batting First Won(Column Q)  \\\n",
       "2008                                                 22   \n",
       "2009                                                 26   \n",
       "2010                                                 31   \n",
       "2011                                                 32   \n",
       "2012                                                 34   \n",
       "2013                                                 37   \n",
       "2014                                                 22   \n",
       "2015                                                 32   \n",
       "\n",
       "     Number of matches team Chasing Won(Column Q)  \\\n",
       "2008                                           36   \n",
       "2009                                           30   \n",
       "2010                                           28   \n",
       "2011                                           40   \n",
       "2012                                           40   \n",
       "2013                                           37   \n",
       "2014                                           37   \n",
       "2015                                           24   \n",
       "\n",
       "     Number of times Match Tied(Column Q)  \n",
       "2008                                    0  \n",
       "2009                                    0  \n",
       "2010                                    0  \n",
       "2011                                    0  \n",
       "2012                                    0  \n",
       "2013                                    0  \n",
       "2014                                    0  \n",
       "2015                                    0  "
      ]
     },
     "execution_count": 32,
     "metadata": {},
     "output_type": "execute_result"
    }
   ],
   "source": [
    "# Using Sir MEthod find all 3 values\n",
    "for ind in df.index:\n",
    "    df.loc[df.index == ind,'Total Number of matches'] = data[data.Year == ind].shape[0]\n",
    "    df.loc[df.index==ind,'Number of matches Team Batting First Won(Column Q)'] = data[(data.Year == ind) & (data.Winning_Team == 'FirstBatting')].shape[0]\n",
    "    df.loc[df.index==ind,'Number of matches team Chasing Won(Column Q)'] = data[(data.Year == ind) & (data.Winning_Team == 'Chasing')].shape[0]\n",
    "    df.loc[df.index==ind,'Number of times Match Tied(Column Q)'] = data[(data.Year == ind) & (data.Winning_Team == 'Tied')].shape[0]\n",
    "df"
   ]
  },
  {
   "cell_type": "code",
   "execution_count": 33,
   "id": "51a1c4a8-f788-44cf-966c-f7acdd78f108",
   "metadata": {},
   "outputs": [],
   "source": [
    "# total number of matches year wise"
   ]
  },
  {
   "cell_type": "code",
   "execution_count": 34,
   "id": "e0106373-61a7-4f42-ad12-9f48857374f3",
   "metadata": {
    "scrolled": true
   },
   "outputs": [
    {
     "data": {
      "text/plain": [
       "Year\n",
       "2008    58\n",
       "2009    57\n",
       "2010    60\n",
       "2011    72\n",
       "2012    74\n",
       "2013    76\n",
       "2014    60\n",
       "2015    57\n",
       "Name: count, dtype: int64"
      ]
     },
     "execution_count": 34,
     "metadata": {},
     "output_type": "execute_result"
    }
   ],
   "source": [
    "match_yearwise_count = data['Year'].value_counts().sort_index()\n",
    "match_yearwise_count"
   ]
  },
  {
   "cell_type": "code",
   "execution_count": 35,
   "id": "f5ea551a-a60a-4663-aee9-082b4a0e74ff",
   "metadata": {},
   "outputs": [],
   "source": [
    "# number of matches winningteam type FirstBatting "
   ]
  },
  {
   "cell_type": "code",
   "execution_count": 36,
   "id": "6036e196-8c80-441e-94f2-a89af1a0a536",
   "metadata": {
    "scrolled": true
   },
   "outputs": [
    {
     "data": {
      "text/html": [
       "<div>\n",
       "<style scoped>\n",
       "    .dataframe tbody tr th:only-of-type {\n",
       "        vertical-align: middle;\n",
       "    }\n",
       "\n",
       "    .dataframe tbody tr th {\n",
       "        vertical-align: top;\n",
       "    }\n",
       "\n",
       "    .dataframe thead th {\n",
       "        text-align: right;\n",
       "    }\n",
       "</style>\n",
       "<table border=\"1\" class=\"dataframe\">\n",
       "  <thead>\n",
       "    <tr style=\"text-align: right;\">\n",
       "      <th></th>\n",
       "      <th>Year</th>\n",
       "      <th>Winning_Team</th>\n",
       "    </tr>\n",
       "  </thead>\n",
       "  <tbody>\n",
       "    <tr>\n",
       "      <th>0</th>\n",
       "      <td>2008</td>\n",
       "      <td>FirstBatting</td>\n",
       "    </tr>\n",
       "    <tr>\n",
       "      <th>1</th>\n",
       "      <td>2008</td>\n",
       "      <td>FirstBatting</td>\n",
       "    </tr>\n",
       "    <tr>\n",
       "      <th>2</th>\n",
       "      <td>2008</td>\n",
       "      <td>Chasing</td>\n",
       "    </tr>\n",
       "    <tr>\n",
       "      <th>3</th>\n",
       "      <td>2008</td>\n",
       "      <td>Chasing</td>\n",
       "    </tr>\n",
       "    <tr>\n",
       "      <th>4</th>\n",
       "      <td>2008</td>\n",
       "      <td>Chasing</td>\n",
       "    </tr>\n",
       "    <tr>\n",
       "      <th>...</th>\n",
       "      <td>...</td>\n",
       "      <td>...</td>\n",
       "    </tr>\n",
       "    <tr>\n",
       "      <th>509</th>\n",
       "      <td>2015</td>\n",
       "      <td>Chasing</td>\n",
       "    </tr>\n",
       "    <tr>\n",
       "      <th>510</th>\n",
       "      <td>2015</td>\n",
       "      <td>FirstBatting</td>\n",
       "    </tr>\n",
       "    <tr>\n",
       "      <th>511</th>\n",
       "      <td>2015</td>\n",
       "      <td>FirstBatting</td>\n",
       "    </tr>\n",
       "    <tr>\n",
       "      <th>512</th>\n",
       "      <td>2015</td>\n",
       "      <td>Chasing</td>\n",
       "    </tr>\n",
       "    <tr>\n",
       "      <th>513</th>\n",
       "      <td>2015</td>\n",
       "      <td>FirstBatting</td>\n",
       "    </tr>\n",
       "  </tbody>\n",
       "</table>\n",
       "<p>514 rows × 2 columns</p>\n",
       "</div>"
      ],
      "text/plain": [
       "     Year  Winning_Team\n",
       "0    2008  FirstBatting\n",
       "1    2008  FirstBatting\n",
       "2    2008       Chasing\n",
       "3    2008       Chasing\n",
       "4    2008       Chasing\n",
       "..    ...           ...\n",
       "509  2015       Chasing\n",
       "510  2015  FirstBatting\n",
       "511  2015  FirstBatting\n",
       "512  2015       Chasing\n",
       "513  2015  FirstBatting\n",
       "\n",
       "[514 rows x 2 columns]"
      ]
     },
     "execution_count": 36,
     "metadata": {},
     "output_type": "execute_result"
    }
   ],
   "source": [
    "col = data[['Year','Winning_Team']]\n",
    "col"
   ]
  },
  {
   "cell_type": "code",
   "execution_count": 37,
   "id": "21a3a565-50bf-48b0-bf53-d04dd145e02c",
   "metadata": {
    "scrolled": true
   },
   "outputs": [
    {
     "data": {
      "text/plain": [
       "Year  Winning_Team\n",
       "2008  FirstBatting    22\n",
       "2009  FirstBatting    26\n",
       "2010  FirstBatting    31\n",
       "2011  FirstBatting    32\n",
       "2012  FirstBatting    34\n",
       "2013  FirstBatting    37\n",
       "2014  FirstBatting    22\n",
       "2015  FirstBatting    32\n",
       "Name: count, dtype: int64"
      ]
     },
     "execution_count": 37,
     "metadata": {},
     "output_type": "execute_result"
    }
   ],
   "source": [
    "Firstbatting = col[col['Winning_Team']=='FirstBatting'].groupby('Year').value_counts()\n",
    "Firstbatting"
   ]
  },
  {
   "cell_type": "code",
   "execution_count": 38,
   "id": "d8f67abe-58cf-48a8-bca3-916197aa4ea3",
   "metadata": {},
   "outputs": [],
   "source": [
    "# number of matches type chasing "
   ]
  },
  {
   "cell_type": "code",
   "execution_count": 39,
   "id": "9df30b4b-0d59-4228-a444-fe550c3f3905",
   "metadata": {},
   "outputs": [
    {
     "data": {
      "text/plain": [
       "Year  Winning_Team\n",
       "2008  Chasing         36\n",
       "2009  Chasing         30\n",
       "2010  Chasing         28\n",
       "2011  Chasing         40\n",
       "2012  Chasing         40\n",
       "2013  Chasing         37\n",
       "2014  Chasing         37\n",
       "2015  Chasing         24\n",
       "Name: count, dtype: int64"
      ]
     },
     "execution_count": 39,
     "metadata": {},
     "output_type": "execute_result"
    }
   ],
   "source": [
    "chasing = col[col['Winning_Team']=='Chasing'].groupby('Year').value_counts()\n",
    "chasing"
   ]
  },
  {
   "cell_type": "code",
   "execution_count": 40,
   "id": "e8387831-0de9-4f77-bee4-2699f5f545cf",
   "metadata": {},
   "outputs": [],
   "source": [
    "# number of matches type match tied"
   ]
  },
  {
   "cell_type": "code",
   "execution_count": 41,
   "id": "1c4ebe5d-f9fa-494b-9a2b-8003fd3cbcba",
   "metadata": {},
   "outputs": [
    {
     "data": {
      "text/plain": [
       "Year  Winning_Team\n",
       "2009  Match Tied      1\n",
       "2010  Match Tied      1\n",
       "2013  Match Tied      2\n",
       "2014  Match Tied      1\n",
       "2015  Match Tied      1\n",
       "Name: count, dtype: int64"
      ]
     },
     "execution_count": 41,
     "metadata": {},
     "output_type": "execute_result"
    }
   ],
   "source": [
    "TiedMatch = col[col['Winning_Team']=='Match Tied'].groupby('Year').value_counts()\n",
    "TiedMatch"
   ]
  },
  {
   "cell_type": "code",
   "execution_count": 42,
   "id": "e954b689-d196-471f-9094-942b3f8bee27",
   "metadata": {},
   "outputs": [],
   "source": [
    "# Venue most have name and size"
   ]
  },
  {
   "cell_type": "code",
   "execution_count": 8,
   "id": "17703c91-f4c2-4bf4-a2e0-8f8cc4935cc5",
   "metadata": {
    "scrolled": true
   },
   "outputs": [
    {
     "ename": "NameError",
     "evalue": "name 'data' is not defined",
     "output_type": "error",
     "traceback": [
      "\u001b[1;31m---------------------------------------------------------------------------\u001b[0m",
      "\u001b[1;31mNameError\u001b[0m                                 Traceback (most recent call last)",
      "Cell \u001b[1;32mIn[8], line 1\u001b[0m\n\u001b[1;32m----> 1\u001b[0m venue_counts \u001b[38;5;241m=\u001b[39m data[\u001b[38;5;124m'\u001b[39m\u001b[38;5;124mVenue\u001b[39m\u001b[38;5;124m'\u001b[39m]\u001b[38;5;241m.\u001b[39mvalue_counts()\n\u001b[0;32m      2\u001b[0m most_common_venue \u001b[38;5;241m=\u001b[39m venue_counts\u001b[38;5;241m.\u001b[39midxmax()\n\u001b[0;32m      3\u001b[0m most_common_venue_count \u001b[38;5;241m=\u001b[39m venue_counts\u001b[38;5;241m.\u001b[39mmax()\n",
      "\u001b[1;31mNameError\u001b[0m: name 'data' is not defined"
     ]
    }
   ],
   "source": [
    "venue_counts = data['Venue'].value_counts()\n",
    "most_common_venue = venue_counts.idxmax()\n",
    "most_common_venue_count = venue_counts.max()\n",
    "\n",
    "print(most_common_venue,most_common_venue_count)"
   ]
  },
  {
   "cell_type": "code",
   "execution_count": 44,
   "id": "b9468a52-594c-4b61-b376-14856d30e8af",
   "metadata": {},
   "outputs": [
    {
     "data": {
      "text/plain": [
       "{'Match_Number': 391,\n",
       " 'Team_Batting_First': 'Bangalore',\n",
       " 'Runs_Scored': 106,\n",
       " 'Overs_Consumed': 8.0}"
      ]
     },
     "execution_count": 44,
     "metadata": {},
     "output_type": "execute_result"
    }
   ],
   "source": [
    "row_find = data.loc[data['Bat_First_Run_Rate'].idxmax()]\n",
    "\n",
    "match_no = row_find['Match_Number']\n",
    "\n",
    "team_batting_first = row_find['Team_Batting_First']\n",
    "runs_scored = row_find['Bat_First_Runs_Scored']\n",
    "overs_consumed = row_find['Bat_First_Overs_Consumed']\n",
    "\n",
    "match_info = {\n",
    "    'Match_Number': match_no,\n",
    "    'Team_Batting_First': team_batting_first,\n",
    "    'Runs_Scored': runs_scored,\n",
    "    'Overs_Consumed': overs_consumed\n",
    "}\n",
    "\n",
    "match_info"
   ]
  }
 ],
 "metadata": {
  "kernelspec": {
   "display_name": "Python 3 (ipykernel)",
   "language": "python",
   "name": "python3"
  },
  "language_info": {
   "codemirror_mode": {
    "name": "ipython",
    "version": 3
   },
   "file_extension": ".py",
   "mimetype": "text/x-python",
   "name": "python",
   "nbconvert_exporter": "python",
   "pygments_lexer": "ipython3",
   "version": "3.11.7"
  }
 },
 "nbformat": 4,
 "nbformat_minor": 5
}
